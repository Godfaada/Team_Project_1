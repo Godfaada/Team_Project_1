{
 "cells": [
  {
   "cell_type": "markdown",
   "id": "3c2ab55f",
   "metadata": {},
   "source": [
    "## NENEURAL NETWORK FOR BAKERY SALES PREDICTION"
   ]
  },
  {
   "cell_type": "code",
   "execution_count": 70,
   "id": "ad2a59a9",
   "metadata": {},
   "outputs": [],
   "source": [
    "#Data handling\n",
    "import matplotlib.pyplot as plt\n",
    "import numpy as np\n",
    "import pandas as pd\n",
    "import holidays\n",
    "#Date handling\n",
    "from datetime import datetime\n",
    "    \n",
    "#processing\n",
    "from sklearn.preprocessing import LabelEncoder, StandardScaler\n",
    "from sklearn.model_selection import train_test_split\n",
    "    \n",
    "#Deep learning\n",
    "import tensorflow as tf\n",
    "from tensorflow.keras.models import Model\n",
    "from tensorflow.keras.layers import Input, Dense, Dropout, BatchNormalization, Activation, Flatten,Concatenate\n",
    "from tensorflow.keras import layers, Model\n",
    "from tensorflow.keras.callbacks import EarlyStopping\n",
    "from tensorflow.keras.optimizers import Adam\n",
    "    \n",
    "#Metrics\n",
    "from sklearn.metrics import mean_squared_error, r2_score,mean_absolute_percentage_error\n",
    "\n"
   ]
  },
  {
   "cell_type": "code",
   "execution_count": 3,
   "id": "4d5125ea",
   "metadata": {},
   "outputs": [],
   "source": [
    "train_df = pd.read_csv('../0_DataPreparation/Project_data/train.csv')\n",
    "test_df = pd.read_csv('../0_DataPreparation/Project_data/test.csv')\n",
    "weather_df = pd.read_csv('../0_DataPreparation/Project_data/wetter.csv')\n",
    "kiwo_df = pd.read_csv('../0_DataPreparation/Project_data/kiwo.csv')"
   ]
  },
  {
   "cell_type": "code",
   "execution_count": 4,
   "id": "435c00f9",
   "metadata": {},
   "outputs": [],
   "source": [
    "#Passing the date column to datetime\n",
    "train_df['Datum'] = pd.to_datetime(train_df['Datum'], errors='coerce')\n",
    "test_df['Datum'] = pd.to_datetime(test_df['Datum'], errors='coerce')\n",
    "weather_df['Datum'] = pd.to_datetime(weather_df['Datum'], errors='coerce')\n",
    "kiwo_df['Datum'] = pd.to_datetime(kiwo_df['Datum'], errors= 'coerce')"
   ]
  },
  {
   "cell_type": "code",
   "execution_count": 5,
   "id": "5efb7030",
   "metadata": {},
   "outputs": [
    {
     "name": "stdout",
     "output_type": "stream",
     "text": [
      "datetime64[ns]\n",
      "datetime64[ns]\n",
      "datetime64[ns]\n",
      "datetime64[ns]\n"
     ]
    }
   ],
   "source": [
    "print(train_df['Datum'].dtype)\n",
    "print(test_df['Datum'].dtype)\n",
    "print(weather_df['Datum'].dtype)\n",
    "print(kiwo_df['Datum'].dtype)"
   ]
  },
  {
   "cell_type": "markdown",
   "id": "c6a8106e",
   "metadata": {},
   "source": [
    "## Preprocessing the Data"
   ]
  },
  {
   "cell_type": "code",
   "execution_count": 6,
   "id": "f7d16f2b",
   "metadata": {},
   "outputs": [
    {
     "name": "stdout",
     "output_type": "stream",
     "text": [
      "Train missing values: 0\n",
      "Test missing values: 0\n",
      "Weather missing values: 679\n",
      "Kiwo missing values: 0\n"
     ]
    }
   ],
   "source": [
    "print(\"Train missing values:\", train_df.isnull().sum().sum())\n",
    "print(\"Test missing values:\", test_df.isnull().sum().sum())\n",
    "print(\"Weather missing values:\", weather_df.isnull().sum().sum())\n",
    "print(\"Kiwo missing values:\", kiwo_df.isnull().sum().sum())"
   ]
  },
  {
   "cell_type": "code",
   "execution_count": 7,
   "id": "7058f9cf",
   "metadata": {},
   "outputs": [
    {
     "name": "stdout",
     "output_type": "stream",
     "text": [
      "True\n"
     ]
    }
   ],
   "source": [
    "print('Datum' in weather_df.columns)"
   ]
  },
  {
   "cell_type": "code",
   "execution_count": 8,
   "id": "d2e07ac1",
   "metadata": {},
   "outputs": [
    {
     "name": "stdout",
     "output_type": "stream",
     "text": [
      "Index name: None\n"
     ]
    }
   ],
   "source": [
    "print(\"Index name:\", weather_df.index.name)\n"
   ]
  },
  {
   "cell_type": "code",
   "execution_count": 9,
   "id": "62ab85a3",
   "metadata": {},
   "outputs": [
    {
     "name": "stdout",
     "output_type": "stream",
     "text": [
      "0\n",
      "0\n",
      "0\n",
      "0\n"
     ]
    }
   ],
   "source": [
    "print(train_df['Datum'].isna().sum())\n",
    "print(test_df['Datum'].isna().sum())\n",
    "print(weather_df['Datum'].isna().sum())\n",
    "print(kiwo_df['Datum'].isna().sum())\n"
   ]
  },
  {
   "cell_type": "code",
   "execution_count": 10,
   "id": "68c0f7f9",
   "metadata": {},
   "outputs": [],
   "source": [
    "# parse numeric columns correctly (in case of text/corruption)\n",
    "weather_df['Bewoelkung'] = pd.to_numeric(weather_df['Bewoelkung'], errors='coerce')\n",
    "weather_df['Temperatur'] = pd.to_numeric(weather_df['Temperatur'], errors='coerce')\n",
    "weather_df['Windgeschwindigkeit'] = pd.to_numeric(weather_df['Windgeschwindigkeit'], errors='coerce')\n",
    "weather_df['Wettercode'] = pd.to_numeric(weather_df['Wettercode'], errors='coerce')"
   ]
  },
  {
   "cell_type": "code",
   "execution_count": 11,
   "id": "d9f476e0",
   "metadata": {},
   "outputs": [],
   "source": [
    "weather_df.set_index('Datum', inplace=True)\n",
    "full_dates = pd.date_range(start=weather_df.index.min(), end=weather_df.index.max(), freq='D')\n",
    "weather_df = weather_df.reindex(full_dates)\n",
    "weather_df = weather_df.infer_objects(copy=False)\n",
    "weather_df.interpolate(method='linear', inplace=True)\n",
    "weather_df.bfill(inplace=True)\n",
    "weather_df.ffill(inplace=True)\n",
    "weather_df.reset_index(names='Datum', inplace=True)\n"
   ]
  },
  {
   "cell_type": "code",
   "execution_count": 12,
   "id": "d690d011",
   "metadata": {},
   "outputs": [
    {
     "name": "stdout",
     "output_type": "stream",
     "text": [
      "Datum                  0\n",
      "Bewoelkung             0\n",
      "Temperatur             0\n",
      "Windgeschwindigkeit    0\n",
      "Wettercode             0\n",
      "dtype: int64\n"
     ]
    }
   ],
   "source": [
    "print(weather_df.isnull().sum())\n"
   ]
  },
  {
   "cell_type": "code",
   "execution_count": 24,
   "id": "6a5161bd",
   "metadata": {},
   "outputs": [],
   "source": [
    "# Merge weather and kiwo data into train and test sets\n",
    "train_df = pd.merge(train_df, weather_df, on='Datum', how='left')\n",
    "train_df = pd.merge(train_df, kiwo_df, on='Datum', how='left')\n",
    "test_df  = pd.merge(test_df, weather_df, on='Datum', how='left')\n",
    "test_df  = pd.merge(test_df, kiwo_df, on='Datum', how='left')"
   ]
  },
  {
   "cell_type": "code",
   "execution_count": 25,
   "id": "0365ab0d",
   "metadata": {},
   "outputs": [],
   "source": [
    "# Fill missing festival flags with 0 (non-festival days)\n",
    "train_df['KielerWoche'] = train_df['KielerWoche'].fillna(0)\n",
    "test_df['KielerWoche']  = test_df['KielerWoche'].fillna(0)\n"
   ]
  },
  {
   "cell_type": "code",
   "execution_count": 26,
   "id": "e5dd9541",
   "metadata": {},
   "outputs": [
    {
     "name": "stdout",
     "output_type": "stream",
     "text": [
      "Train missing values after merge: 0\n",
      "Test missing values after merge: 0\n",
      "        id      Datum  Warengruppe      Umsatz  Bewoelkung  Temperatur  \\\n",
      "0  1307011 2013-07-01            1  148.828353         6.0     17.8375   \n",
      "1  1307021 2013-07-02            1  159.793757         3.0     17.3125   \n",
      "2  1307031 2013-07-03            1  111.885594         7.0     21.0750   \n",
      "3  1307041 2013-07-04            1  168.864941         7.0     18.8500   \n",
      "4  1307051 2013-07-05            1  171.280754         5.0     19.9750   \n",
      "\n",
      "   Windgeschwindigkeit  Wettercode  KielerWoche  Year  Month  DayOfWeek  \\\n",
      "0                 15.0       20.00          0.0  2013      7          0   \n",
      "1                 10.0       40.50          0.0  2013      7          1   \n",
      "2                  6.0       61.00          0.0  2013      7          2   \n",
      "3                  7.0       20.00          0.0  2013      7          3   \n",
      "4                 12.0       16.25          0.0  2013      7          4   \n",
      "\n",
      "   is_weekend  \n",
      "0           0  \n",
      "1           0  \n",
      "2           0  \n",
      "3           0  \n",
      "4           0  \n",
      "        id      Datum  Warengruppe  Bewoelkung  Temperatur  \\\n",
      "0  1808011 2018-08-01            1         0.0     23.7625   \n",
      "1  1808021 2018-08-02            1         0.0     26.1875   \n",
      "2  1808031 2018-08-03            1         1.0     27.6625   \n",
      "3  1808041 2018-08-04            1         4.0     25.1375   \n",
      "4  1808051 2018-08-05            1         7.0     21.3000   \n",
      "\n",
      "   Windgeschwindigkeit  Wettercode  KielerWoche  Year  Month  DayOfWeek  \\\n",
      "0                 10.0         0.0          0.0  2018      8          2   \n",
      "1                 10.0         0.0          0.0  2018      8          3   \n",
      "2                 10.0         0.0          0.0  2018      8          4   \n",
      "3                 12.0        30.5          0.0  2018      8          5   \n",
      "4                 14.0        61.0          0.0  2018      8          6   \n",
      "\n",
      "   is_weekend  \n",
      "0           0  \n",
      "1           0  \n",
      "2           0  \n",
      "3           1  \n",
      "4           1  \n"
     ]
    }
   ],
   "source": [
    "print(\"Train missing values after merge:\", train.isnull().sum().sum())\n",
    "print(\"Test missing values after merge:\", test.isnull().sum().sum())\n",
    "print(train.head())\n",
    "print(test.head())"
   ]
  },
  {
   "cell_type": "markdown",
   "id": "9deffa5f",
   "metadata": {},
   "source": [
    "## FEATURE ENGINEERING"
   ]
  },
  {
   "cell_type": "code",
   "execution_count": 27,
   "id": "477e607c",
   "metadata": {},
   "outputs": [],
   "source": [
    "#Extracting date features\n",
    "train_df['Year'] = train_df['Datum'].dt.year\n",
    "train_df['Month'] = train_df['Datum'].dt.month\n",
    "train_df['DayOfWeek'] = train_df['Datum'].dt.dayofweek   #0 = Monday, 6 = Sunday\n",
    "train_df['is_weekend'] = train_df['DayOfWeek'].isin([5, 6]).astype(int)\n",
    "\n",
    "test_df['Year'] = test_df['Datum'].dt.year\n",
    "test_df['Month'] = test_df['Datum'].dt.month\n",
    "test_df['DayOfWeek'] = test_df['Datum'].dt.dayofweek\n",
    "test_df['is_weekend'] = test_df['DayOfWeek'].isin([5, 6]).astype(int)\n",
    "\n"
   ]
  },
  {
   "cell_type": "code",
   "execution_count": 28,
   "id": "a3313701",
   "metadata": {},
   "outputs": [],
   "source": [
    "train_df = pd.get_dummies(train_df, columns=['DayOfWeek', 'Month'], drop_first=True)\n",
    "test_df = pd.get_dummies(test_df, columns=['DayOfWeek', 'Month'], drop_first=True)\n"
   ]
  },
  {
   "cell_type": "code",
   "execution_count": 29,
   "id": "18d45875",
   "metadata": {},
   "outputs": [
    {
     "name": "stdout",
     "output_type": "stream",
     "text": [
      "Index(['id', 'Datum', 'Warengruppe', 'Umsatz', 'Bewoelkung', 'Temperatur',\n",
      "       'Windgeschwindigkeit', 'Wettercode', 'KielerWoche', 'Year',\n",
      "       'is_weekend', 'DayOfWeek_1', 'DayOfWeek_2', 'DayOfWeek_3',\n",
      "       'DayOfWeek_4', 'DayOfWeek_5', 'DayOfWeek_6', 'Month_2', 'Month_3',\n",
      "       'Month_4', 'Month_5', 'Month_6', 'Month_7', 'Month_8', 'Month_9',\n",
      "       'Month_10', 'Month_11', 'Month_12'],\n",
      "      dtype='object')\n",
      "Index(['id', 'Datum', 'Warengruppe', 'Bewoelkung', 'Temperatur',\n",
      "       'Windgeschwindigkeit', 'Wettercode', 'KielerWoche', 'Year',\n",
      "       'is_weekend', 'DayOfWeek_1', 'DayOfWeek_2', 'DayOfWeek_3',\n",
      "       'DayOfWeek_4', 'DayOfWeek_5', 'DayOfWeek_6', 'Month_2', 'Month_3',\n",
      "       'Month_4', 'Month_5', 'Month_6', 'Month_7', 'Month_8', 'Month_9',\n",
      "       'Month_10', 'Month_11', 'Month_12'],\n",
      "      dtype='object')\n"
     ]
    }
   ],
   "source": [
    "print(train_df.columns)\n",
    "print(test_df.columns)"
   ]
  },
  {
   "cell_type": "code",
   "execution_count": 31,
   "id": "ea830c49",
   "metadata": {},
   "outputs": [
    {
     "name": "stdout",
     "output_type": "stream",
     "text": [
      "        id      Datum  Warengruppe      Umsatz  Bewoelkung  Temperatur  \\\n",
      "0  1307011 2013-07-01            1  148.828353         6.0     17.8375   \n",
      "1  1307021 2013-07-02            1  159.793757         3.0     17.3125   \n",
      "\n",
      "   Windgeschwindigkeit  Wettercode  KielerWoche  Year  ...  Month_3  Month_4  \\\n",
      "0                 15.0        20.0          0.0  2013  ...    False    False   \n",
      "1                 10.0        40.5          0.0  2013  ...    False    False   \n",
      "\n",
      "   Month_5  Month_6  Month_7  Month_8  Month_9  Month_10  Month_11  Month_12  \n",
      "0    False    False     True    False    False     False     False     False  \n",
      "1    False    False     True    False    False     False     False     False  \n",
      "\n",
      "[2 rows x 28 columns]\n"
     ]
    }
   ],
   "source": [
    "print(train_df.head(2))"
   ]
  },
  {
   "cell_type": "code",
   "execution_count": 46,
   "id": "0b647351",
   "metadata": {},
   "outputs": [],
   "source": [
    "# Add missing dummy columns to test\n",
    "for col in train_df.columns:\n",
    "    if col.startswith('dayofweek_') or col.startswith('month_'):\n",
    "        if col not in test_df.columns:\n",
    "            test_df[col] = 0\n",
    "\n",
    "# Drop any extras in test not in train\n",
    "for col in test_df.columns:\n",
    "    if (col.startswith('dayofweek_') or col.startswith('month_')) and col not in train_df.columns:\n",
    "        train_df[col] = 0\n"
   ]
  },
  {
   "cell_type": "code",
   "execution_count": 47,
   "id": "32a06700",
   "metadata": {},
   "outputs": [],
   "source": [
    "train_df.drop(columns='Datum', inplace=True, errors='ignore')\n",
    "test_df.drop(columns='Datum', inplace=True, errors='ignore')\n"
   ]
  },
  {
   "cell_type": "code",
   "execution_count": null,
   "id": "8e77a8a1",
   "metadata": {},
   "outputs": [],
   "source": [
    "# Encode categorical features\n",
    "\n",
    "#encoder = LabelEncoder()\n",
    "#all_groups = pd.concat([train_df['Warengruppe'], test_df['Warengruppe']])\n",
    "\n",
    "#encoder.fit(all_groups)\n",
    "\n",
    "# Encode Warengruppe \n",
    "if 'Warengruppe_code' not in train_df.columns:\n",
    "    if 'Warengruppe' in train_df.columns:\n",
    "        train_df['Warengruppe_code'] = train_df['Warengruppe'] - 1\n",
    "        train_df.drop(columns='Warengruppe', inplace=True, errors='ignore')\n",
    "\n",
    "if 'Warengruppe_code' not in test_df.columns:\n",
    "    if 'Warengruppe' in test_df.columns:\n",
    "        test_df['Warengruppe_code'] = test_df['Warengruppe'] - 1\n",
    "        test_df.drop(columns='Warengruppe', inplace=True, errors='ignore')\n"
   ]
  },
  {
   "cell_type": "code",
   "execution_count": 53,
   "id": "b8b34683",
   "metadata": {},
   "outputs": [
    {
     "name": "stdout",
     "output_type": "stream",
     "text": [
      "Index(['id', 'Umsatz', 'Bewoelkung', 'Temperatur', 'Windgeschwindigkeit',\n",
      "       'Wettercode', 'KielerWoche', 'Year', 'is_weekend', 'DayOfWeek_1',\n",
      "       'DayOfWeek_2', 'DayOfWeek_3', 'DayOfWeek_4', 'DayOfWeek_5',\n",
      "       'DayOfWeek_6', 'Month_2', 'Month_3', 'Month_4', 'Month_5', 'Month_6',\n",
      "       'Month_7', 'Month_8', 'Month_9', 'Month_10', 'Month_11', 'Month_12',\n",
      "       'Warengruppe_code'],\n",
      "      dtype='object')\n"
     ]
    }
   ],
   "source": [
    "print(train_df.columns)\n"
   ]
  },
  {
   "cell_type": "code",
   "execution_count": 56,
   "id": "70f41480",
   "metadata": {},
   "outputs": [],
   "source": [
    "#  German holidays (Schleswig-Holstein covers Kiel)\n",
    "german_holidays = holidays.Germany(prov='SH', years=range(2012, 2020))\n",
    "\n",
    "# Set of all holiday dates\n",
    "holiday_dates = set(german_holidays.keys())"
   ]
  },
  {
   "cell_type": "code",
   "execution_count": 60,
   "id": "6995738d",
   "metadata": {},
   "outputs": [
    {
     "name": "stderr",
     "output_type": "stream",
     "text": [
      "/var/folders/0v/wz051f795j13ts216fq3zpwc0000gn/T/ipykernel_1113/2630270668.py:6: FutureWarning: The behavior of 'isin' with dtype=datetime64[ns] and castable values (e.g. strings) is deprecated. In a future version, these will not be considered matching by isin. Explicitly cast to the appropriate dtype before calling isin instead.\n",
      "  train_df['is_holiday'] = train_df['Datum'].isin(holiday_dates).astype(int)\n",
      "/var/folders/0v/wz051f795j13ts216fq3zpwc0000gn/T/ipykernel_1113/2630270668.py:7: FutureWarning: The behavior of 'isin' with dtype=datetime64[ns] and castable values (e.g. strings) is deprecated. In a future version, these will not be considered matching by isin. Explicitly cast to the appropriate dtype before calling isin instead.\n",
      "  test_df['is_holiday'] = test_df['Datum'].isin(holiday_dates).astype(int)\n"
     ]
    }
   ],
   "source": [
    "if 'Datum' not in train_df.columns and 'Datum' in train.columns:\n",
    "    train_df['Datum'] = train['Datum']\n",
    "if 'Datum' not in test_df.columns and 'Datum' in test.columns:\n",
    "    test_df['Datum'] = test['Datum']\n",
    "\n",
    "train_df['is_holiday'] = train_df['Datum'].isin(holiday_dates).astype(int)\n",
    "test_df['is_holiday'] = test_df['Datum'].isin(holiday_dates).astype(int)\n",
    "\n",
    "train_df.drop(columns='Datum', inplace=True, errors='ignore')\n",
    "test_df.drop(columns='Datum', inplace=True, errors='ignore')\n"
   ]
  },
  {
   "cell_type": "code",
   "execution_count": 61,
   "id": "d5df62f1",
   "metadata": {},
   "outputs": [],
   "source": [
    "train_df['is_off'] = ((train_df['is_weekend'] == 1) | (train_df['is_holiday'] == 1)).astype(int)\n",
    "test_df['is_off'] = ((test_df['is_weekend'] == 1) | (test_df['is_holiday'] == 1)).astype(int)\n"
   ]
  },
  {
   "cell_type": "markdown",
   "id": "ac7408e9",
   "metadata": {},
   "source": [
    "## Split Data into  Training and Validation Sets"
   ]
  },
  {
   "cell_type": "code",
   "execution_count": 64,
   "id": "5cbe306f",
   "metadata": {},
   "outputs": [],
   "source": [
    "# Restore datum column if it was dropped\n",
    "if 'Datum' not in train_df.columns and 'Datum' in train.columns:\n",
    "    train_df['Datum'] = train['Datum']\n",
    "\n",
    "# Now convert to datetime\n",
    "train_df['Datum'] = pd.to_datetime(train_df['Datum'], errors='coerce')\n",
    "\n",
    "\n",
    "# Define date ranges\n",
    "training_start_date = '2013-07-01'\n",
    "training_end_date = '2017-07-31'\n",
    "\n",
    "validation_start_date = '2017-08-01'\n",
    "validation_end_date = '2018-07-31'\n",
    "\n",
    "# Create masks\n",
    "train_mask = (train_df['Datum'] >= training_start_date) & (train_df['Datum'] <= training_end_date)\n",
    "val_mask = (train_df['Datum'] >= validation_start_date) & (train_df['Datum'] <= validation_end_date)\n",
    "\n",
    "# Apply masks\n",
    "train_split = train_df[train_mask].copy()\n",
    "val_split = train_df[val_mask].copy()\n"
   ]
  },
  {
   "cell_type": "code",
   "execution_count": 65,
   "id": "f2f2e128",
   "metadata": {},
   "outputs": [],
   "source": [
    "#Seperating features and target variable\n",
    "X_train = train_split.drop(columns='Umsatz')\n",
    "y_train = train_split['Umsatz']\n",
    "\n",
    "X_val = val_split.drop(columns='Umsatz')\n",
    "y_val = val_split['Umsatz']\n"
   ]
  },
  {
   "cell_type": "code",
   "execution_count": 67,
   "id": "7fe5f4d9",
   "metadata": {},
   "outputs": [],
   "source": [
    "#Scaling the features\n",
    "\n",
    "# Drop the categorical column before scaling\n",
    "num_features = X_train.drop(columns=['Warengruppe_code']).select_dtypes(include='number').columns\n",
    "\n",
    "# Initialize scaler\n",
    "scaler = StandardScaler()\n",
    "\n",
    "# Scale numeric features\n",
    "X_train_scaled = X_train.copy()\n",
    "X_val_scaled = X_val.copy()\n",
    "\n",
    "X_train_scaled[num_features] = scaler.fit_transform(X_train[num_features])\n",
    "X_val_scaled[num_features] = scaler.transform(X_val[num_features])\n"
   ]
  },
  {
   "cell_type": "code",
   "execution_count": 82,
   "id": "b76d6855",
   "metadata": {},
   "outputs": [],
   "source": [
    "# Prepare categorical input for embedding\n",
    "X_train_cat = X_train['Warengruppe_code'].astype('int32').values\n",
    "X_val_cat   = X_val['Warengruppe_code'].astype('int32').values\n",
    "\n",
    "# Remove datetime and embedding columns from numeric features\n",
    "X_train_num_df = X_train.drop(columns=['Warengruppe_code'], errors='ignore')\n",
    "X_val_num_df   = X_val.drop(columns=['Warengruppe_code'], errors='ignore')\n",
    "\n",
    "# Exclude datetime columns before casting\n",
    "X_train_num_df = X_train_num_df.select_dtypes(exclude=['datetime', 'datetime64[ns]'])\n",
    "X_val_num_df   = X_val_num_df.select_dtypes(exclude=['datetime', 'datetime64[ns]'])\n",
    "\n",
    "# Convert to float32 numpy arrays\n",
    "X_train_num = X_train_num_df.astype('float32').values\n",
    "X_val_num   = X_val_num_df.astype('float32').values\n"
   ]
  },
  {
   "cell_type": "markdown",
   "id": "22399cc4",
   "metadata": {},
   "source": [
    "## NEURAL NETWORK"
   ]
  },
  {
   "cell_type": "code",
   "execution_count": 84,
   "id": "f68c07ee",
   "metadata": {},
   "outputs": [],
   "source": [
    "\n",
    "\n",
    "# Defining Input Layers\n",
    "\n",
    "numeric_input = layers.Input(shape=(X_train_num.shape[1],), name=\"numeric_input\")\n",
    "cat_input     = layers.Input(shape=(1,), name=\"warengruppe_input\")\n",
    "\n",
    "\n",
    "# Embedding for Categorical Input\n",
    "embed_out = layers.Embedding(input_dim=6, output_dim=3, name=\"warengruppe_embed\")(cat_input)\n",
    "embed_flat = layers.Flatten()(embed_out)\n",
    "\n",
    "# Concatenate Inputs\n",
    "concat = layers.concatenate([numeric_input, embed_flat], name=\"concat_layer\")\n",
    "\n",
    "# Hidden Layers\n",
    "dense1 = layers.Dense(64, activation='relu', name=\"dense_1\")(concat)\n",
    "dense1 = layers.Dropout(0.3)(dense1)\n",
    "dense2 = layers.Dense(32, activation='relu', name=\"dense_2\")(dense1)\n",
    "dense2 = layers.Dropout(0.2)(dense2)\n",
    "\n",
    "# Output Layer\n",
    "\n",
    "\n",
    "output = layers.Dense(1, activation='linear', name=\"output\")(dense2)\n",
    "\n"
   ]
  },
  {
   "cell_type": "code",
   "execution_count": 85,
   "id": "1e8329e7",
   "metadata": {},
   "outputs": [
    {
     "data": {
      "text/html": [
       "<pre style=\"white-space:pre;overflow-x:auto;line-height:normal;font-family:Menlo,'DejaVu Sans Mono',consolas,'Courier New',monospace\"><span style=\"font-weight: bold\">Model: \"functional_1\"</span>\n",
       "</pre>\n"
      ],
      "text/plain": [
       "\u001b[1mModel: \"functional_1\"\u001b[0m\n"
      ]
     },
     "metadata": {},
     "output_type": "display_data"
    },
    {
     "data": {
      "text/html": [
       "<pre style=\"white-space:pre;overflow-x:auto;line-height:normal;font-family:Menlo,'DejaVu Sans Mono',consolas,'Courier New',monospace\">┏━━━━━━━━━━━━━━━━━━━━━┳━━━━━━━━━━━━━━━━━━━┳━━━━━━━━━━━━┳━━━━━━━━━━━━━━━━━━━┓\n",
       "┃<span style=\"font-weight: bold\"> Layer (type)        </span>┃<span style=\"font-weight: bold\"> Output Shape      </span>┃<span style=\"font-weight: bold\">    Param # </span>┃<span style=\"font-weight: bold\"> Connected to      </span>┃\n",
       "┡━━━━━━━━━━━━━━━━━━━━━╇━━━━━━━━━━━━━━━━━━━╇━━━━━━━━━━━━╇━━━━━━━━━━━━━━━━━━━┩\n",
       "│ warengruppe_input   │ (<span style=\"color: #00d7ff; text-decoration-color: #00d7ff\">None</span>, <span style=\"color: #00af00; text-decoration-color: #00af00\">1</span>)         │          <span style=\"color: #00af00; text-decoration-color: #00af00\">0</span> │ -                 │\n",
       "│ (<span style=\"color: #0087ff; text-decoration-color: #0087ff\">InputLayer</span>)        │                   │            │                   │\n",
       "├─────────────────────┼───────────────────┼────────────┼───────────────────┤\n",
       "│ warengruppe_embed   │ (<span style=\"color: #00d7ff; text-decoration-color: #00d7ff\">None</span>, <span style=\"color: #00af00; text-decoration-color: #00af00\">1</span>, <span style=\"color: #00af00; text-decoration-color: #00af00\">3</span>)      │         <span style=\"color: #00af00; text-decoration-color: #00af00\">18</span> │ warengruppe_inpu… │\n",
       "│ (<span style=\"color: #0087ff; text-decoration-color: #0087ff\">Embedding</span>)         │                   │            │                   │\n",
       "├─────────────────────┼───────────────────┼────────────┼───────────────────┤\n",
       "│ numeric_input       │ (<span style=\"color: #00d7ff; text-decoration-color: #00d7ff\">None</span>, <span style=\"color: #00af00; text-decoration-color: #00af00\">27</span>)        │          <span style=\"color: #00af00; text-decoration-color: #00af00\">0</span> │ -                 │\n",
       "│ (<span style=\"color: #0087ff; text-decoration-color: #0087ff\">InputLayer</span>)        │                   │            │                   │\n",
       "├─────────────────────┼───────────────────┼────────────┼───────────────────┤\n",
       "│ flatten_3 (<span style=\"color: #0087ff; text-decoration-color: #0087ff\">Flatten</span>) │ (<span style=\"color: #00d7ff; text-decoration-color: #00d7ff\">None</span>, <span style=\"color: #00af00; text-decoration-color: #00af00\">3</span>)         │          <span style=\"color: #00af00; text-decoration-color: #00af00\">0</span> │ warengruppe_embe… │\n",
       "├─────────────────────┼───────────────────┼────────────┼───────────────────┤\n",
       "│ concat_layer        │ (<span style=\"color: #00d7ff; text-decoration-color: #00d7ff\">None</span>, <span style=\"color: #00af00; text-decoration-color: #00af00\">30</span>)        │          <span style=\"color: #00af00; text-decoration-color: #00af00\">0</span> │ numeric_input[<span style=\"color: #00af00; text-decoration-color: #00af00\">0</span>]… │\n",
       "│ (<span style=\"color: #0087ff; text-decoration-color: #0087ff\">Concatenate</span>)       │                   │            │ flatten_3[<span style=\"color: #00af00; text-decoration-color: #00af00\">0</span>][<span style=\"color: #00af00; text-decoration-color: #00af00\">0</span>]   │\n",
       "├─────────────────────┼───────────────────┼────────────┼───────────────────┤\n",
       "│ dense_1 (<span style=\"color: #0087ff; text-decoration-color: #0087ff\">Dense</span>)     │ (<span style=\"color: #00d7ff; text-decoration-color: #00d7ff\">None</span>, <span style=\"color: #00af00; text-decoration-color: #00af00\">64</span>)        │      <span style=\"color: #00af00; text-decoration-color: #00af00\">1,984</span> │ concat_layer[<span style=\"color: #00af00; text-decoration-color: #00af00\">0</span>][<span style=\"color: #00af00; text-decoration-color: #00af00\">…</span> │\n",
       "├─────────────────────┼───────────────────┼────────────┼───────────────────┤\n",
       "│ dropout_6 (<span style=\"color: #0087ff; text-decoration-color: #0087ff\">Dropout</span>) │ (<span style=\"color: #00d7ff; text-decoration-color: #00d7ff\">None</span>, <span style=\"color: #00af00; text-decoration-color: #00af00\">64</span>)        │          <span style=\"color: #00af00; text-decoration-color: #00af00\">0</span> │ dense_1[<span style=\"color: #00af00; text-decoration-color: #00af00\">0</span>][<span style=\"color: #00af00; text-decoration-color: #00af00\">0</span>]     │\n",
       "├─────────────────────┼───────────────────┼────────────┼───────────────────┤\n",
       "│ dense_2 (<span style=\"color: #0087ff; text-decoration-color: #0087ff\">Dense</span>)     │ (<span style=\"color: #00d7ff; text-decoration-color: #00d7ff\">None</span>, <span style=\"color: #00af00; text-decoration-color: #00af00\">32</span>)        │      <span style=\"color: #00af00; text-decoration-color: #00af00\">2,080</span> │ dropout_6[<span style=\"color: #00af00; text-decoration-color: #00af00\">0</span>][<span style=\"color: #00af00; text-decoration-color: #00af00\">0</span>]   │\n",
       "├─────────────────────┼───────────────────┼────────────┼───────────────────┤\n",
       "│ dropout_7 (<span style=\"color: #0087ff; text-decoration-color: #0087ff\">Dropout</span>) │ (<span style=\"color: #00d7ff; text-decoration-color: #00d7ff\">None</span>, <span style=\"color: #00af00; text-decoration-color: #00af00\">32</span>)        │          <span style=\"color: #00af00; text-decoration-color: #00af00\">0</span> │ dense_2[<span style=\"color: #00af00; text-decoration-color: #00af00\">0</span>][<span style=\"color: #00af00; text-decoration-color: #00af00\">0</span>]     │\n",
       "├─────────────────────┼───────────────────┼────────────┼───────────────────┤\n",
       "│ output (<span style=\"color: #0087ff; text-decoration-color: #0087ff\">Dense</span>)      │ (<span style=\"color: #00d7ff; text-decoration-color: #00d7ff\">None</span>, <span style=\"color: #00af00; text-decoration-color: #00af00\">1</span>)         │         <span style=\"color: #00af00; text-decoration-color: #00af00\">33</span> │ dropout_7[<span style=\"color: #00af00; text-decoration-color: #00af00\">0</span>][<span style=\"color: #00af00; text-decoration-color: #00af00\">0</span>]   │\n",
       "└─────────────────────┴───────────────────┴────────────┴───────────────────┘\n",
       "</pre>\n"
      ],
      "text/plain": [
       "┏━━━━━━━━━━━━━━━━━━━━━┳━━━━━━━━━━━━━━━━━━━┳━━━━━━━━━━━━┳━━━━━━━━━━━━━━━━━━━┓\n",
       "┃\u001b[1m \u001b[0m\u001b[1mLayer (type)       \u001b[0m\u001b[1m \u001b[0m┃\u001b[1m \u001b[0m\u001b[1mOutput Shape     \u001b[0m\u001b[1m \u001b[0m┃\u001b[1m \u001b[0m\u001b[1m   Param #\u001b[0m\u001b[1m \u001b[0m┃\u001b[1m \u001b[0m\u001b[1mConnected to     \u001b[0m\u001b[1m \u001b[0m┃\n",
       "┡━━━━━━━━━━━━━━━━━━━━━╇━━━━━━━━━━━━━━━━━━━╇━━━━━━━━━━━━╇━━━━━━━━━━━━━━━━━━━┩\n",
       "│ warengruppe_input   │ (\u001b[38;5;45mNone\u001b[0m, \u001b[38;5;34m1\u001b[0m)         │          \u001b[38;5;34m0\u001b[0m │ -                 │\n",
       "│ (\u001b[38;5;33mInputLayer\u001b[0m)        │                   │            │                   │\n",
       "├─────────────────────┼───────────────────┼────────────┼───────────────────┤\n",
       "│ warengruppe_embed   │ (\u001b[38;5;45mNone\u001b[0m, \u001b[38;5;34m1\u001b[0m, \u001b[38;5;34m3\u001b[0m)      │         \u001b[38;5;34m18\u001b[0m │ warengruppe_inpu… │\n",
       "│ (\u001b[38;5;33mEmbedding\u001b[0m)         │                   │            │                   │\n",
       "├─────────────────────┼───────────────────┼────────────┼───────────────────┤\n",
       "│ numeric_input       │ (\u001b[38;5;45mNone\u001b[0m, \u001b[38;5;34m27\u001b[0m)        │          \u001b[38;5;34m0\u001b[0m │ -                 │\n",
       "│ (\u001b[38;5;33mInputLayer\u001b[0m)        │                   │            │                   │\n",
       "├─────────────────────┼───────────────────┼────────────┼───────────────────┤\n",
       "│ flatten_3 (\u001b[38;5;33mFlatten\u001b[0m) │ (\u001b[38;5;45mNone\u001b[0m, \u001b[38;5;34m3\u001b[0m)         │          \u001b[38;5;34m0\u001b[0m │ warengruppe_embe… │\n",
       "├─────────────────────┼───────────────────┼────────────┼───────────────────┤\n",
       "│ concat_layer        │ (\u001b[38;5;45mNone\u001b[0m, \u001b[38;5;34m30\u001b[0m)        │          \u001b[38;5;34m0\u001b[0m │ numeric_input[\u001b[38;5;34m0\u001b[0m]… │\n",
       "│ (\u001b[38;5;33mConcatenate\u001b[0m)       │                   │            │ flatten_3[\u001b[38;5;34m0\u001b[0m][\u001b[38;5;34m0\u001b[0m]   │\n",
       "├─────────────────────┼───────────────────┼────────────┼───────────────────┤\n",
       "│ dense_1 (\u001b[38;5;33mDense\u001b[0m)     │ (\u001b[38;5;45mNone\u001b[0m, \u001b[38;5;34m64\u001b[0m)        │      \u001b[38;5;34m1,984\u001b[0m │ concat_layer[\u001b[38;5;34m0\u001b[0m][\u001b[38;5;34m…\u001b[0m │\n",
       "├─────────────────────┼───────────────────┼────────────┼───────────────────┤\n",
       "│ dropout_6 (\u001b[38;5;33mDropout\u001b[0m) │ (\u001b[38;5;45mNone\u001b[0m, \u001b[38;5;34m64\u001b[0m)        │          \u001b[38;5;34m0\u001b[0m │ dense_1[\u001b[38;5;34m0\u001b[0m][\u001b[38;5;34m0\u001b[0m]     │\n",
       "├─────────────────────┼───────────────────┼────────────┼───────────────────┤\n",
       "│ dense_2 (\u001b[38;5;33mDense\u001b[0m)     │ (\u001b[38;5;45mNone\u001b[0m, \u001b[38;5;34m32\u001b[0m)        │      \u001b[38;5;34m2,080\u001b[0m │ dropout_6[\u001b[38;5;34m0\u001b[0m][\u001b[38;5;34m0\u001b[0m]   │\n",
       "├─────────────────────┼───────────────────┼────────────┼───────────────────┤\n",
       "│ dropout_7 (\u001b[38;5;33mDropout\u001b[0m) │ (\u001b[38;5;45mNone\u001b[0m, \u001b[38;5;34m32\u001b[0m)        │          \u001b[38;5;34m0\u001b[0m │ dense_2[\u001b[38;5;34m0\u001b[0m][\u001b[38;5;34m0\u001b[0m]     │\n",
       "├─────────────────────┼───────────────────┼────────────┼───────────────────┤\n",
       "│ output (\u001b[38;5;33mDense\u001b[0m)      │ (\u001b[38;5;45mNone\u001b[0m, \u001b[38;5;34m1\u001b[0m)         │         \u001b[38;5;34m33\u001b[0m │ dropout_7[\u001b[38;5;34m0\u001b[0m][\u001b[38;5;34m0\u001b[0m]   │\n",
       "└─────────────────────┴───────────────────┴────────────┴───────────────────┘\n"
      ]
     },
     "metadata": {},
     "output_type": "display_data"
    },
    {
     "data": {
      "text/html": [
       "<pre style=\"white-space:pre;overflow-x:auto;line-height:normal;font-family:Menlo,'DejaVu Sans Mono',consolas,'Courier New',monospace\"><span style=\"font-weight: bold\"> Total params: </span><span style=\"color: #00af00; text-decoration-color: #00af00\">4,115</span> (16.07 KB)\n",
       "</pre>\n"
      ],
      "text/plain": [
       "\u001b[1m Total params: \u001b[0m\u001b[38;5;34m4,115\u001b[0m (16.07 KB)\n"
      ]
     },
     "metadata": {},
     "output_type": "display_data"
    },
    {
     "data": {
      "text/html": [
       "<pre style=\"white-space:pre;overflow-x:auto;line-height:normal;font-family:Menlo,'DejaVu Sans Mono',consolas,'Courier New',monospace\"><span style=\"font-weight: bold\"> Trainable params: </span><span style=\"color: #00af00; text-decoration-color: #00af00\">4,115</span> (16.07 KB)\n",
       "</pre>\n"
      ],
      "text/plain": [
       "\u001b[1m Trainable params: \u001b[0m\u001b[38;5;34m4,115\u001b[0m (16.07 KB)\n"
      ]
     },
     "metadata": {},
     "output_type": "display_data"
    },
    {
     "data": {
      "text/html": [
       "<pre style=\"white-space:pre;overflow-x:auto;line-height:normal;font-family:Menlo,'DejaVu Sans Mono',consolas,'Courier New',monospace\"><span style=\"font-weight: bold\"> Non-trainable params: </span><span style=\"color: #00af00; text-decoration-color: #00af00\">0</span> (0.00 B)\n",
       "</pre>\n"
      ],
      "text/plain": [
       "\u001b[1m Non-trainable params: \u001b[0m\u001b[38;5;34m0\u001b[0m (0.00 B)\n"
      ]
     },
     "metadata": {},
     "output_type": "display_data"
    }
   ],
   "source": [
    "# Build and Compile Model\n",
    "model = Model(inputs=[numeric_input, cat_input], outputs=output)\n",
    "model.compile(\n",
    "    optimizer='adam',\n",
    "    loss='mse',\n",
    "    metrics=[tf.keras.metrics.MeanAbsolutePercentageError()]\n",
    ")\n",
    "model.summary()\n",
    "\n",
    "# Early Stopping Callback\n",
    "\n",
    "early_stop = EarlyStopping(monitor='val_loss', patience=5, restore_best_weights=True)\n",
    "\n"
   ]
  },
  {
   "cell_type": "code",
   "execution_count": 86,
   "id": "4cfef634",
   "metadata": {},
   "outputs": [
    {
     "name": "stdout",
     "output_type": "stream",
     "text": [
      "(7493, 28)\n"
     ]
    }
   ],
   "source": [
    "print(X_train.drop(columns='Warengruppe_code').shape)  \n"
   ]
  },
  {
   "cell_type": "code",
   "execution_count": 87,
   "id": "ce1ebaf9",
   "metadata": {},
   "outputs": [],
   "source": [
    "\n",
    "# Prepare numeric inputs (drop embedding + datetime cols)\n",
    "X_train_num_df = X_train.drop(columns=['Warengruppe_code'], errors='ignore')\n",
    "X_val_num_df   = X_val.drop(columns=['Warengruppe_code'], errors='ignore')\n",
    "\n",
    "# Remove any datetime columns\n",
    "X_train_num_df = X_train_num_df.select_dtypes(exclude=['datetime', 'datetime64[ns]'])\n",
    "X_val_num_df   = X_val_num_df.select_dtypes(exclude=['datetime', 'datetime64[ns]'])\n",
    "\n",
    "#  Convert to float32 numpy arrays\n",
    "X_train_num = X_train_num_df.astype('float32').values\n",
    "X_val_num   = X_val_num_df.astype('float32').values\n",
    "\n",
    "#  Convert categorical input for embedding to int32\n",
    "X_train_cat = np.array(X_train['Warengruppe_code']).astype('int32')\n",
    "X_val_cat   = np.array(X_val['Warengruppe_code']).astype('int32')\n",
    "\n",
    "#  Convert target to float32\n",
    "y_train = np.array(y_train).astype('float32')\n",
    "y_val   = np.array(y_val).astype('float32')\n"
   ]
  },
  {
   "cell_type": "code",
   "execution_count": 88,
   "id": "d1f1e70a",
   "metadata": {},
   "outputs": [
    {
     "name": "stdout",
     "output_type": "stream",
     "text": [
      "Epoch 1/50\n",
      "\u001b[1m235/235\u001b[0m \u001b[32m━━━━━━━━━━━━━━━━━━━━\u001b[0m\u001b[37m\u001b[0m \u001b[1m2s\u001b[0m 3ms/step - loss: 11711396864.0000 - mean_absolute_percentage_error: 60352.5391 - val_loss: 5094504.5000 - val_mean_absolute_percentage_error: 1772.5833\n",
      "Epoch 2/50\n",
      "\u001b[1m235/235\u001b[0m \u001b[32m━━━━━━━━━━━━━━━━━━━━\u001b[0m\u001b[37m\u001b[0m \u001b[1m1s\u001b[0m 2ms/step - loss: 636953472.0000 - mean_absolute_percentage_error: 13953.2852 - val_loss: 55420.0078 - val_mean_absolute_percentage_error: 100.0055\n",
      "Epoch 3/50\n",
      "\u001b[1m235/235\u001b[0m \u001b[32m━━━━━━━━━━━━━━━━━━━━\u001b[0m\u001b[37m\u001b[0m \u001b[1m1s\u001b[0m 2ms/step - loss: 153192624.0000 - mean_absolute_percentage_error: 6139.0244 - val_loss: 55416.6992 - val_mean_absolute_percentage_error: 99.9991\n",
      "Epoch 4/50\n",
      "\u001b[1m235/235\u001b[0m \u001b[32m━━━━━━━━━━━━━━━━━━━━\u001b[0m\u001b[37m\u001b[0m \u001b[1m1s\u001b[0m 3ms/step - loss: 63397292.0000 - mean_absolute_percentage_error: 3172.6948 - val_loss: 55413.3047 - val_mean_absolute_percentage_error: 99.9925\n",
      "Epoch 5/50\n",
      "\u001b[1m235/235\u001b[0m \u001b[32m━━━━━━━━━━━━━━━━━━━━\u001b[0m\u001b[37m\u001b[0m \u001b[1m1s\u001b[0m 2ms/step - loss: 33618876.0000 - mean_absolute_percentage_error: 2051.8027 - val_loss: 55410.0859 - val_mean_absolute_percentage_error: 99.9862\n",
      "Epoch 6/50\n",
      "\u001b[1m235/235\u001b[0m \u001b[32m━━━━━━━━━━━━━━━━━━━━\u001b[0m\u001b[37m\u001b[0m \u001b[1m1s\u001b[0m 2ms/step - loss: 22216324.0000 - mean_absolute_percentage_error: 1481.1793 - val_loss: 55406.2656 - val_mean_absolute_percentage_error: 99.9787\n",
      "Epoch 7/50\n",
      "\u001b[1m235/235\u001b[0m \u001b[32m━━━━━━━━━━━━━━━━━━━━\u001b[0m\u001b[37m\u001b[0m \u001b[1m1s\u001b[0m 3ms/step - loss: 13440815.0000 - mean_absolute_percentage_error: 1059.4821 - val_loss: 55402.2070 - val_mean_absolute_percentage_error: 99.9708\n",
      "Epoch 8/50\n",
      "\u001b[1m235/235\u001b[0m \u001b[32m━━━━━━━━━━━━━━━━━━━━\u001b[0m\u001b[37m\u001b[0m \u001b[1m1s\u001b[0m 2ms/step - loss: 8229650.5000 - mean_absolute_percentage_error: 769.8380 - val_loss: 55397.6758 - val_mean_absolute_percentage_error: 99.9620\n",
      "Epoch 9/50\n",
      "\u001b[1m235/235\u001b[0m \u001b[32m━━━━━━━━━━━━━━━━━━━━\u001b[0m\u001b[37m\u001b[0m \u001b[1m1s\u001b[0m 2ms/step - loss: 7218255.0000 - mean_absolute_percentage_error: 645.6183 - val_loss: 55393.4062 - val_mean_absolute_percentage_error: 99.9536\n",
      "Epoch 10/50\n",
      "\u001b[1m235/235\u001b[0m \u001b[32m━━━━━━━━━━━━━━━━━━━━\u001b[0m\u001b[37m\u001b[0m \u001b[1m1s\u001b[0m 2ms/step - loss: 5236451.0000 - mean_absolute_percentage_error: 526.5747 - val_loss: 55388.2617 - val_mean_absolute_percentage_error: 99.9436\n",
      "Epoch 11/50\n",
      "\u001b[1m235/235\u001b[0m \u001b[32m━━━━━━━━━━━━━━━━━━━━\u001b[0m\u001b[37m\u001b[0m \u001b[1m1s\u001b[0m 2ms/step - loss: 3091929.7500 - mean_absolute_percentage_error: 379.4200 - val_loss: 55382.0195 - val_mean_absolute_percentage_error: 99.9314\n",
      "Epoch 12/50\n",
      "\u001b[1m235/235\u001b[0m \u001b[32m━━━━━━━━━━━━━━━━━━━━\u001b[0m\u001b[37m\u001b[0m \u001b[1m1s\u001b[0m 3ms/step - loss: 3361128.0000 - mean_absolute_percentage_error: 370.0768 - val_loss: 55374.7656 - val_mean_absolute_percentage_error: 99.9173\n",
      "Epoch 13/50\n",
      "\u001b[1m235/235\u001b[0m \u001b[32m━━━━━━━━━━━━━━━━━━━━\u001b[0m\u001b[37m\u001b[0m \u001b[1m1s\u001b[0m 4ms/step - loss: 2853200.0000 - mean_absolute_percentage_error: 333.1198 - val_loss: 55368.1680 - val_mean_absolute_percentage_error: 99.9044\n",
      "Epoch 14/50\n",
      "\u001b[1m235/235\u001b[0m \u001b[32m━━━━━━━━━━━━━━━━━━━━\u001b[0m\u001b[37m\u001b[0m \u001b[1m1s\u001b[0m 3ms/step - loss: 1460710.1250 - mean_absolute_percentage_error: 262.9856 - val_loss: 55359.4062 - val_mean_absolute_percentage_error: 99.8873\n",
      "Epoch 15/50\n",
      "\u001b[1m235/235\u001b[0m \u001b[32m━━━━━━━━━━━━━━━━━━━━\u001b[0m\u001b[37m\u001b[0m \u001b[1m1s\u001b[0m 3ms/step - loss: 1520988.3750 - mean_absolute_percentage_error: 261.7451 - val_loss: 55350.7617 - val_mean_absolute_percentage_error: 99.8704\n",
      "Epoch 16/50\n",
      "\u001b[1m235/235\u001b[0m \u001b[32m━━━━━━━━━━━━━━━━━━━━\u001b[0m\u001b[37m\u001b[0m \u001b[1m1s\u001b[0m 3ms/step - loss: 1323721.3750 - mean_absolute_percentage_error: 244.3895 - val_loss: 55341.1250 - val_mean_absolute_percentage_error: 99.8516\n",
      "Epoch 17/50\n",
      "\u001b[1m235/235\u001b[0m \u001b[32m━━━━━━━━━━━━━━━━━━━━\u001b[0m\u001b[37m\u001b[0m \u001b[1m1s\u001b[0m 2ms/step - loss: 967140.4375 - mean_absolute_percentage_error: 185.2001 - val_loss: 55328.8672 - val_mean_absolute_percentage_error: 99.8276\n",
      "Epoch 18/50\n",
      "\u001b[1m235/235\u001b[0m \u001b[32m━━━━━━━━━━━━━━━━━━━━\u001b[0m\u001b[37m\u001b[0m \u001b[1m1s\u001b[0m 3ms/step - loss: 811209.4375 - mean_absolute_percentage_error: 179.0474 - val_loss: 55316.2227 - val_mean_absolute_percentage_error: 99.8029\n",
      "Epoch 19/50\n",
      "\u001b[1m235/235\u001b[0m \u001b[32m━━━━━━━━━━━━━━━━━━━━\u001b[0m\u001b[37m\u001b[0m \u001b[1m1s\u001b[0m 3ms/step - loss: 1011716.5625 - mean_absolute_percentage_error: 193.4984 - val_loss: 55302.7500 - val_mean_absolute_percentage_error: 99.7766\n",
      "Epoch 20/50\n",
      "\u001b[1m235/235\u001b[0m \u001b[32m━━━━━━━━━━━━━━━━━━━━\u001b[0m\u001b[37m\u001b[0m \u001b[1m1s\u001b[0m 2ms/step - loss: 418555.9062 - mean_absolute_percentage_error: 132.8237 - val_loss: 55288.3203 - val_mean_absolute_percentage_error: 99.7485\n",
      "Epoch 21/50\n",
      "\u001b[1m235/235\u001b[0m \u001b[32m━━━━━━━━━━━━━━━━━━━━\u001b[0m\u001b[37m\u001b[0m \u001b[1m1s\u001b[0m 2ms/step - loss: 578358.0625 - mean_absolute_percentage_error: 160.5720 - val_loss: 55271.3203 - val_mean_absolute_percentage_error: 99.7152\n",
      "Epoch 22/50\n",
      "\u001b[1m235/235\u001b[0m \u001b[32m━━━━━━━━━━━━━━━━━━━━\u001b[0m\u001b[37m\u001b[0m \u001b[1m1s\u001b[0m 2ms/step - loss: 661087.6875 - mean_absolute_percentage_error: 143.5417 - val_loss: 55252.4492 - val_mean_absolute_percentage_error: 99.6783\n",
      "Epoch 23/50\n",
      "\u001b[1m235/235\u001b[0m \u001b[32m━━━━━━━━━━━━━━━━━━━━\u001b[0m\u001b[37m\u001b[0m \u001b[1m1s\u001b[0m 2ms/step - loss: 715353.1250 - mean_absolute_percentage_error: 138.9530 - val_loss: 55231.2227 - val_mean_absolute_percentage_error: 99.6368\n",
      "Epoch 24/50\n",
      "\u001b[1m235/235\u001b[0m \u001b[32m━━━━━━━━━━━━━━━━━━━━\u001b[0m\u001b[37m\u001b[0m \u001b[1m1s\u001b[0m 2ms/step - loss: 545250.8750 - mean_absolute_percentage_error: 130.4849 - val_loss: 55207.8672 - val_mean_absolute_percentage_error: 99.5911\n",
      "Epoch 25/50\n",
      "\u001b[1m235/235\u001b[0m \u001b[32m━━━━━━━━━━━━━━━━━━━━\u001b[0m\u001b[37m\u001b[0m \u001b[1m1s\u001b[0m 2ms/step - loss: 186287.9219 - mean_absolute_percentage_error: 120.7387 - val_loss: 55181.7695 - val_mean_absolute_percentage_error: 99.5401\n",
      "Epoch 26/50\n",
      "\u001b[1m235/235\u001b[0m \u001b[32m━━━━━━━━━━━━━━━━━━━━\u001b[0m\u001b[37m\u001b[0m \u001b[1m1s\u001b[0m 2ms/step - loss: 494262.6875 - mean_absolute_percentage_error: 141.5559 - val_loss: 55154.0742 - val_mean_absolute_percentage_error: 99.4858\n",
      "Epoch 27/50\n",
      "\u001b[1m235/235\u001b[0m \u001b[32m━━━━━━━━━━━━━━━━━━━━\u001b[0m\u001b[37m\u001b[0m \u001b[1m1s\u001b[0m 2ms/step - loss: 404115.5938 - mean_absolute_percentage_error: 141.0770 - val_loss: 55122.6016 - val_mean_absolute_percentage_error: 99.4242\n",
      "Epoch 28/50\n",
      "\u001b[1m235/235\u001b[0m \u001b[32m━━━━━━━━━━━━━━━━━━━━\u001b[0m\u001b[37m\u001b[0m \u001b[1m1s\u001b[0m 2ms/step - loss: 383026.6562 - mean_absolute_percentage_error: 114.5767 - val_loss: 55089.9180 - val_mean_absolute_percentage_error: 99.3602\n",
      "Epoch 29/50\n",
      "\u001b[1m235/235\u001b[0m \u001b[32m━━━━━━━━━━━━━━━━━━━━\u001b[0m\u001b[37m\u001b[0m \u001b[1m1s\u001b[0m 2ms/step - loss: 211363.9844 - mean_absolute_percentage_error: 113.3257 - val_loss: 55053.5234 - val_mean_absolute_percentage_error: 99.2889\n",
      "Epoch 30/50\n",
      "\u001b[1m235/235\u001b[0m \u001b[32m━━━━━━━━━━━━━━━━━━━━\u001b[0m\u001b[37m\u001b[0m \u001b[1m1s\u001b[0m 2ms/step - loss: 170849.6406 - mean_absolute_percentage_error: 113.0902 - val_loss: 55015.0742 - val_mean_absolute_percentage_error: 99.2135\n",
      "Epoch 31/50\n",
      "\u001b[1m235/235\u001b[0m \u001b[32m━━━━━━━━━━━━━━━━━━━━\u001b[0m\u001b[37m\u001b[0m \u001b[1m1s\u001b[0m 2ms/step - loss: 315968.2188 - mean_absolute_percentage_error: 122.3319 - val_loss: 54977.1914 - val_mean_absolute_percentage_error: 99.1392\n",
      "Epoch 32/50\n",
      "\u001b[1m235/235\u001b[0m \u001b[32m━━━━━━━━━━━━━━━━━━━━\u001b[0m\u001b[37m\u001b[0m \u001b[1m1s\u001b[0m 2ms/step - loss: 270450.7500 - mean_absolute_percentage_error: 109.4439 - val_loss: 47147.1016 - val_mean_absolute_percentage_error: 83.1637\n",
      "Epoch 33/50\n",
      "\u001b[1m235/235\u001b[0m \u001b[32m━━━━━━━━━━━━━━━━━━━━\u001b[0m\u001b[37m\u001b[0m \u001b[1m1s\u001b[0m 3ms/step - loss: 259726.5156 - mean_absolute_percentage_error: 114.5349 - val_loss: 43108.8320 - val_mean_absolute_percentage_error: 74.3411\n",
      "Epoch 34/50\n",
      "\u001b[1m235/235\u001b[0m \u001b[32m━━━━━━━━━━━━━━━━━━━━\u001b[0m\u001b[37m\u001b[0m \u001b[1m1s\u001b[0m 2ms/step - loss: 114964.6484 - mean_absolute_percentage_error: 101.8934 - val_loss: 44402.9102 - val_mean_absolute_percentage_error: 77.2066\n",
      "Epoch 35/50\n",
      "\u001b[1m235/235\u001b[0m \u001b[32m━━━━━━━━━━━━━━━━━━━━\u001b[0m\u001b[37m\u001b[0m \u001b[1m1s\u001b[0m 2ms/step - loss: 96733.9531 - mean_absolute_percentage_error: 95.1885 - val_loss: 40763.9453 - val_mean_absolute_percentage_error: 69.1379\n",
      "Epoch 36/50\n",
      "\u001b[1m235/235\u001b[0m \u001b[32m━━━━━━━━━━━━━━━━━━━━\u001b[0m\u001b[37m\u001b[0m \u001b[1m1s\u001b[0m 2ms/step - loss: 84411.6797 - mean_absolute_percentage_error: 92.0697 - val_loss: 27125.3867 - val_mean_absolute_percentage_error: 46.8084\n",
      "Epoch 37/50\n",
      "\u001b[1m235/235\u001b[0m \u001b[32m━━━━━━━━━━━━━━━━━━━━\u001b[0m\u001b[37m\u001b[0m \u001b[1m1s\u001b[0m 2ms/step - loss: 88396.3516 - mean_absolute_percentage_error: 95.8408 - val_loss: 26052.6582 - val_mean_absolute_percentage_error: 46.6784\n",
      "Epoch 38/50\n",
      "\u001b[1m235/235\u001b[0m \u001b[32m━━━━━━━━━━━━━━━━━━━━\u001b[0m\u001b[37m\u001b[0m \u001b[1m1s\u001b[0m 2ms/step - loss: 101778.5625 - mean_absolute_percentage_error: 93.6065 - val_loss: 21621.7637 - val_mean_absolute_percentage_error: 50.3821\n",
      "Epoch 39/50\n",
      "\u001b[1m235/235\u001b[0m \u001b[32m━━━━━━━━━━━━━━━━━━━━\u001b[0m\u001b[37m\u001b[0m \u001b[1m1s\u001b[0m 2ms/step - loss: 63950.2109 - mean_absolute_percentage_error: 89.5035 - val_loss: 31797.3516 - val_mean_absolute_percentage_error: 51.2602\n",
      "Epoch 40/50\n",
      "\u001b[1m235/235\u001b[0m \u001b[32m━━━━━━━━━━━━━━━━━━━━\u001b[0m\u001b[37m\u001b[0m \u001b[1m1s\u001b[0m 2ms/step - loss: 70138.3828 - mean_absolute_percentage_error: 90.1787 - val_loss: 34478.9219 - val_mean_absolute_percentage_error: 55.8726\n",
      "Epoch 41/50\n",
      "\u001b[1m235/235\u001b[0m \u001b[32m━━━━━━━━━━━━━━━━━━━━\u001b[0m\u001b[37m\u001b[0m \u001b[1m1s\u001b[0m 2ms/step - loss: 83200.9766 - mean_absolute_percentage_error: 92.6621 - val_loss: 35246.1484 - val_mean_absolute_percentage_error: 57.3714\n",
      "Epoch 42/50\n",
      "\u001b[1m235/235\u001b[0m \u001b[32m━━━━━━━━━━━━━━━━━━━━\u001b[0m\u001b[37m\u001b[0m \u001b[1m1s\u001b[0m 2ms/step - loss: 78519.2656 - mean_absolute_percentage_error: 94.8220 - val_loss: 28088.5918 - val_mean_absolute_percentage_error: 47.2531\n",
      "Epoch 43/50\n",
      "\u001b[1m235/235\u001b[0m \u001b[32m━━━━━━━━━━━━━━━━━━━━\u001b[0m\u001b[37m\u001b[0m \u001b[1m1s\u001b[0m 2ms/step - loss: 71357.3203 - mean_absolute_percentage_error: 92.2979 - val_loss: 17138.6230 - val_mean_absolute_percentage_error: 69.2642\n",
      "Epoch 44/50\n",
      "\u001b[1m235/235\u001b[0m \u001b[32m━━━━━━━━━━━━━━━━━━━━\u001b[0m\u001b[37m\u001b[0m \u001b[1m1s\u001b[0m 2ms/step - loss: 84096.8984 - mean_absolute_percentage_error: 94.7304 - val_loss: 17427.0684 - val_mean_absolute_percentage_error: 88.3740\n",
      "Epoch 45/50\n",
      "\u001b[1m235/235\u001b[0m \u001b[32m━━━━━━━━━━━━━━━━━━━━\u001b[0m\u001b[37m\u001b[0m \u001b[1m1s\u001b[0m 2ms/step - loss: 44081.1641 - mean_absolute_percentage_error: 93.7238 - val_loss: 17067.5605 - val_mean_absolute_percentage_error: 70.3247\n",
      "Epoch 46/50\n",
      "\u001b[1m235/235\u001b[0m \u001b[32m━━━━━━━━━━━━━━━━━━━━\u001b[0m\u001b[37m\u001b[0m \u001b[1m1s\u001b[0m 2ms/step - loss: 78389.2891 - mean_absolute_percentage_error: 99.6182 - val_loss: 32254.7246 - val_mean_absolute_percentage_error: 51.9567\n",
      "Epoch 47/50\n",
      "\u001b[1m235/235\u001b[0m \u001b[32m━━━━━━━━━━━━━━━━━━━━\u001b[0m\u001b[37m\u001b[0m \u001b[1m1s\u001b[0m 2ms/step - loss: 48327.2148 - mean_absolute_percentage_error: 87.6503 - val_loss: 28080.4062 - val_mean_absolute_percentage_error: 47.2480\n",
      "Epoch 48/50\n",
      "\u001b[1m235/235\u001b[0m \u001b[32m━━━━━━━━━━━━━━━━━━━━\u001b[0m\u001b[37m\u001b[0m \u001b[1m1s\u001b[0m 2ms/step - loss: 45870.2812 - mean_absolute_percentage_error: 87.5278 - val_loss: 17225.0098 - val_mean_absolute_percentage_error: 68.1707\n",
      "Epoch 49/50\n",
      "\u001b[1m235/235\u001b[0m \u001b[32m━━━━━━━━━━━━━━━━━━━━\u001b[0m\u001b[37m\u001b[0m \u001b[1m1s\u001b[0m 2ms/step - loss: 53408.1992 - mean_absolute_percentage_error: 88.2521 - val_loss: 18727.0996 - val_mean_absolute_percentage_error: 58.4338\n",
      "Epoch 50/50\n",
      "\u001b[1m235/235\u001b[0m \u001b[32m━━━━━━━━━━━━━━━━━━━━\u001b[0m\u001b[37m\u001b[0m \u001b[1m1s\u001b[0m 2ms/step - loss: 103453.0938 - mean_absolute_percentage_error: 95.2758 - val_loss: 19235.5332 - val_mean_absolute_percentage_error: 56.4628\n"
     ]
    }
   ],
   "source": [
    "# Train the Model\n",
    "history = model.fit(\n",
    "    [X_train_num, X_train_cat],\n",
    "    y_train,\n",
    "    validation_data=([X_val_num, X_val_cat], y_val),\n",
    "    epochs=50,\n",
    "    batch_size=32,\n",
    "    callbacks=[early_stop],\n",
    "    verbose=1\n",
    ")\n",
    "\n",
    "\n"
   ]
  },
  {
   "cell_type": "code",
   "execution_count": 89,
   "id": "fe005703",
   "metadata": {},
   "outputs": [
    {
     "name": "stdout",
     "output_type": "stream",
     "text": [
      "\u001b[1m58/58\u001b[0m \u001b[32m━━━━━━━━━━━━━━━━━━━━\u001b[0m\u001b[37m\u001b[0m \u001b[1m0s\u001b[0m 2ms/step - loss: 16647.5898 - mean_absolute_percentage_error: 61.5091\n",
      "\n",
      "✅ Validation MAPE: 70.3247\n"
     ]
    }
   ],
   "source": [
    "# Evaluate Performance\n",
    "\n",
    "val_loss, val_mape = model.evaluate([X_val_num, X_val_cat], y_val)\n",
    "print(f\"\\n✅ Validation MAPE: {val_mape:.4f}\")\n"
   ]
  },
  {
   "cell_type": "code",
   "execution_count": 98,
   "id": "57975ed9",
   "metadata": {},
   "outputs": [
    {
     "ename": "NameError",
     "evalue": "name 'result' is not defined",
     "output_type": "error",
     "traceback": [
      "\u001b[0;31m---------------------------------------------------------------------------\u001b[0m",
      "\u001b[0;31mNameError\u001b[0m                                 Traceback (most recent call last)",
      "Cell \u001b[0;32mIn[98], line 8\u001b[0m\n\u001b[1;32m      5\u001b[0m feature_names \u001b[38;5;241m=\u001b[39m [\u001b[38;5;124mf\u001b[39m\u001b[38;5;124m\"\u001b[39m\u001b[38;5;124mnum_\u001b[39m\u001b[38;5;132;01m{\u001b[39;00mi\u001b[38;5;132;01m}\u001b[39;00m\u001b[38;5;124m\"\u001b[39m \u001b[38;5;28;01mfor\u001b[39;00m i \u001b[38;5;129;01min\u001b[39;00m \u001b[38;5;28mrange\u001b[39m(X_val_num\u001b[38;5;241m.\u001b[39mshape[\u001b[38;5;241m1\u001b[39m])] \u001b[38;5;241m+\u001b[39m [\u001b[38;5;124m\"\u001b[39m\u001b[38;5;124mWarengruppe_code\u001b[39m\u001b[38;5;124m\"\u001b[39m]\n\u001b[1;32m      7\u001b[0m \u001b[38;5;66;03m# Append both importances (numeric + categorical)\u001b[39;00m\n\u001b[0;32m----> 8\u001b[0m importances \u001b[38;5;241m=\u001b[39m np\u001b[38;5;241m.\u001b[39mappend(result\u001b[38;5;241m.\u001b[39mimportances_mean[:X_val_num\u001b[38;5;241m.\u001b[39mshape[\u001b[38;5;241m1\u001b[39m]], result\u001b[38;5;241m.\u001b[39mimportances_mean[\u001b[38;5;241m-\u001b[39m\u001b[38;5;241m1\u001b[39m])\n\u001b[1;32m     10\u001b[0m \u001b[38;5;66;03m# Plot\u001b[39;00m\n\u001b[1;32m     11\u001b[0m pd\u001b[38;5;241m.\u001b[39mSeries(importances, index\u001b[38;5;241m=\u001b[39mfeature_names)\u001b[38;5;241m.\u001b[39msort_values()\u001b[38;5;241m.\u001b[39mplot(kind\u001b[38;5;241m=\u001b[39m\u001b[38;5;124m'\u001b[39m\u001b[38;5;124mbarh\u001b[39m\u001b[38;5;124m'\u001b[39m)\n",
      "\u001b[0;31mNameError\u001b[0m: name 'result' is not defined"
     ]
    }
   ],
   "source": [
    "import matplotlib.pyplot as plt\n",
    "import pandas as pd\n",
    "\n",
    "# Reconstruct feature names\n",
    "feature_names = [f\"num_{i}\" for i in range(X_val_num.shape[1])] + [\"Warengruppe_code\"]\n",
    "\n",
    "# Append both importances (numeric + categorical)\n",
    "importances = np.append(result.importances_mean[:X_val_num.shape[1]], result.importances_mean[-1])\n",
    "\n",
    "# Plot\n",
    "pd.Series(importances, index=feature_names).sort_values().plot(kind='barh')\n",
    "plt.title(\"Permutation Feature Importance\")\n",
    "plt.tight_layout()\n",
    "plt.show()\n"
   ]
  },
  {
   "cell_type": "code",
   "execution_count": null,
   "id": "c54ee854",
   "metadata": {},
   "outputs": [],
   "source": []
  }
 ],
 "metadata": {
  "kernelspec": {
   "display_name": "base",
   "language": "python",
   "name": "python3"
  },
  "language_info": {
   "codemirror_mode": {
    "name": "ipython",
    "version": 3
   },
   "file_extension": ".py",
   "mimetype": "text/x-python",
   "name": "python",
   "nbconvert_exporter": "python",
   "pygments_lexer": "ipython3",
   "version": "3.12.2"
  }
 },
 "nbformat": 4,
 "nbformat_minor": 5
}
